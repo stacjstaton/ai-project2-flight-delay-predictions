{
 "cells": [
  {
   "cell_type": "code",
   "execution_count": 1,
   "metadata": {},
   "outputs": [
    {
     "data": {
      "text/plain": [
       "(44.544229239705366, 'ATL', 'WN')"
      ]
     },
     "execution_count": 1,
     "metadata": {},
     "output_type": "execute_result"
    }
   ],
   "source": [
    "#Importing the required libraries\n",
    "import pandas as pd\n",
    "\n",
    "# Load the dataset\n",
    "df = pd.read_csv('./data/Airlines.csv')\n",
    "\n",
    "# Display sample data\n",
    "df.head()\n"
   ]
  },
  {
   "cell_type": "code",
   "execution_count": null,
   "metadata": {},
   "outputs": [],
   "source": [
    "#Overall percentage of delayed flights\n",
    "total_flights = len(df)\n",
    "delayed_flights = df[df['Delay'] == 1]\n",
    "percentage_delayed = (len(delayed_flights) / total_flights) * 100\n",
    "\n",
    "print('Overall percentage of delayed flights:', percentage_delayed)"
   ]
  },
  {
   "cell_type": "code",
   "execution_count": null,
   "metadata": {},
   "outputs": [],
   "source": [
    "#Airport with the highest number of delays (AirportFrom)\n",
    "airport_delay_counts = delayed_flights['AirportFrom'].value_counts().idxmax()\n",
    "print('Airport with the highest number of delays:', airport_delay_counts)"
   ]
  },
  {
   "cell_type": "code",
   "execution_count": null,
   "metadata": {},
   "outputs": [],
   "source": [
    "#Airline most likely to experience delays\n",
    "airline_delay_ratio = delayed_flights['Airline'].value_counts().idxmax()\n",
    "\n",
    "print('Airline most likely to experience delays:', airline_delay_ratio)"
   ]
  }
 ],
 "metadata": {
  "kernelspec": {
   "display_name": "base",
   "language": "python",
   "name": "python3"
  },
  "language_info": {
   "codemirror_mode": {
    "name": "ipython",
    "version": 3
   },
   "file_extension": ".py",
   "mimetype": "text/x-python",
   "name": "python",
   "nbconvert_exporter": "python",
   "pygments_lexer": "ipython3",
   "version": "3.11.7"
  }
 },
 "nbformat": 4,
 "nbformat_minor": 2
}
