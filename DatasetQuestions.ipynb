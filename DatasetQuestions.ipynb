{
 "cells": [
  {
   "cell_type": "code",
   "execution_count": 30,
   "metadata": {},
   "outputs": [
    {
     "data": {
      "text/html": [
       "<div>\n",
       "<style scoped>\n",
       "    .dataframe tbody tr th:only-of-type {\n",
       "        vertical-align: middle;\n",
       "    }\n",
       "\n",
       "    .dataframe tbody tr th {\n",
       "        vertical-align: top;\n",
       "    }\n",
       "\n",
       "    .dataframe thead th {\n",
       "        text-align: right;\n",
       "    }\n",
       "</style>\n",
       "<table border=\"1\" class=\"dataframe\">\n",
       "  <thead>\n",
       "    <tr style=\"text-align: right;\">\n",
       "      <th></th>\n",
       "      <th>id</th>\n",
       "      <th>Airline</th>\n",
       "      <th>Flight</th>\n",
       "      <th>AirportFrom</th>\n",
       "      <th>AirportTo</th>\n",
       "      <th>DayOfWeek</th>\n",
       "      <th>Time</th>\n",
       "      <th>Length</th>\n",
       "      <th>Delay</th>\n",
       "    </tr>\n",
       "  </thead>\n",
       "  <tbody>\n",
       "    <tr>\n",
       "      <th>0</th>\n",
       "      <td>1</td>\n",
       "      <td>CO</td>\n",
       "      <td>269</td>\n",
       "      <td>SFO</td>\n",
       "      <td>IAH</td>\n",
       "      <td>3</td>\n",
       "      <td>15</td>\n",
       "      <td>205</td>\n",
       "      <td>1</td>\n",
       "    </tr>\n",
       "    <tr>\n",
       "      <th>1</th>\n",
       "      <td>2</td>\n",
       "      <td>US</td>\n",
       "      <td>1558</td>\n",
       "      <td>PHX</td>\n",
       "      <td>CLT</td>\n",
       "      <td>3</td>\n",
       "      <td>15</td>\n",
       "      <td>222</td>\n",
       "      <td>1</td>\n",
       "    </tr>\n",
       "    <tr>\n",
       "      <th>2</th>\n",
       "      <td>3</td>\n",
       "      <td>AA</td>\n",
       "      <td>2400</td>\n",
       "      <td>LAX</td>\n",
       "      <td>DFW</td>\n",
       "      <td>3</td>\n",
       "      <td>20</td>\n",
       "      <td>165</td>\n",
       "      <td>1</td>\n",
       "    </tr>\n",
       "    <tr>\n",
       "      <th>3</th>\n",
       "      <td>4</td>\n",
       "      <td>AA</td>\n",
       "      <td>2466</td>\n",
       "      <td>SFO</td>\n",
       "      <td>DFW</td>\n",
       "      <td>3</td>\n",
       "      <td>20</td>\n",
       "      <td>195</td>\n",
       "      <td>1</td>\n",
       "    </tr>\n",
       "    <tr>\n",
       "      <th>4</th>\n",
       "      <td>5</td>\n",
       "      <td>AS</td>\n",
       "      <td>108</td>\n",
       "      <td>ANC</td>\n",
       "      <td>SEA</td>\n",
       "      <td>3</td>\n",
       "      <td>30</td>\n",
       "      <td>202</td>\n",
       "      <td>0</td>\n",
       "    </tr>\n",
       "  </tbody>\n",
       "</table>\n",
       "</div>"
      ],
      "text/plain": [
       "   id Airline  Flight AirportFrom AirportTo  DayOfWeek  Time  Length  Delay\n",
       "0   1      CO     269         SFO       IAH          3    15     205      1\n",
       "1   2      US    1558         PHX       CLT          3    15     222      1\n",
       "2   3      AA    2400         LAX       DFW          3    20     165      1\n",
       "3   4      AA    2466         SFO       DFW          3    20     195      1\n",
       "4   5      AS     108         ANC       SEA          3    30     202      0"
      ]
     },
     "execution_count": 30,
     "metadata": {},
     "output_type": "execute_result"
    }
   ],
   "source": [
    "#Importing the required libraries\n",
    "import pandas as pd\n",
    "\n",
    "# Load the dataset\n",
    "df = pd.read_csv('./data/Airlines.csv')\n",
    "\n",
    "# Display sample data\n",
    "df.head()\n"
   ]
  },
  {
   "cell_type": "code",
   "execution_count": 31,
   "metadata": {},
   "outputs": [
    {
     "name": "stdout",
     "output_type": "stream",
     "text": [
      "Overall percentage of delayed flights: 44.544229239705366\n"
     ]
    }
   ],
   "source": [
    "#Overall percentage of delayed flights\n",
    "total_flights = len(df)\n",
    "delayed_flights = df[df['Delay'] == 1]\n",
    "percentage_delayed = (len(delayed_flights) / total_flights) * 100\n",
    "\n",
    "print('Overall percentage of delayed flights:', percentage_delayed)"
   ]
  },
  {
   "cell_type": "code",
   "execution_count": 32,
   "metadata": {},
   "outputs": [
    {
     "name": "stdout",
     "output_type": "stream",
     "text": [
      "Airport with the highest number of delays: ATL\n"
     ]
    }
   ],
   "source": [
    "#Airport with the highest number of delays (AirportFrom)\n",
    "airport_delay_counts = delayed_flights['AirportFrom'].value_counts().idxmax()\n",
    "print('Airport with the highest number of delays:', airport_delay_counts)"
   ]
  },
  {
   "cell_type": "code",
   "execution_count": 33,
   "metadata": {},
   "outputs": [
    {
     "name": "stdout",
     "output_type": "stream",
     "text": [
      "Airline most likely to experience delays: WN\n"
     ]
    }
   ],
   "source": [
    "#Airline most likely to experience delays\n",
    "airline_delay_ratio = delayed_flights['Airline'].value_counts().idxmax()\n",
    "\n",
    "print('Airline most likely to experience delays:', airline_delay_ratio)"
   ]
  },
  {
   "cell_type": "code",
   "execution_count": 34,
   "metadata": {},
   "outputs": [
    {
     "name": "stdout",
     "output_type": "stream",
     "text": [
      "Delays by day of the week: DayOfWeek\n",
      "1    34030\n",
      "2    31913\n",
      "3    42254\n",
      "4    41244\n",
      "5    35515\n",
      "6    23615\n",
      "7    31693\n",
      "Name: count, dtype: int64\n"
     ]
    }
   ],
   "source": [
    "#Delays by day of the week\n",
    "delay_by_day = delayed_flights['DayOfWeek'].value_counts().sort_index()\n",
    "print('Delays by day of the week:', delay_by_day)"
   ]
  },
  {
   "cell_type": "code",
   "execution_count": 35,
   "metadata": {},
   "outputs": [
    {
     "name": "stdout",
     "output_type": "stream",
     "text": [
      "Delay distribution by time of day: TimeOfDay\n",
      "Morning      227676\n",
      "Afternoon    206704\n",
      "Evening      105003\n",
      "Name: count, dtype: int64\n"
     ]
    }
   ],
   "source": [
    "#Delay distribution by time of day (morning vs afternoon vs evening)\n",
    "# We will divide the time of day into morning (00:00-12:00), afternoon (12:00-18:00), evening (18:00-00:00)\n",
    "def categorize_time_of_day(time):\n",
    "    if time <= 720:  # 12:00 PM\n",
    "        return 'Morning'\n",
    "    elif time <= 1080:  # 6:00 PM\n",
    "        return 'Afternoon'\n",
    "    else:\n",
    "        return 'Evening'\n",
    "\n",
    "df['TimeOfDay'] = df['Time'].apply(categorize_time_of_day)\n",
    "delay_by_time_of_day = df['TimeOfDay'].value_counts()\n",
    "print('Delay distribution by time of day:', delay_by_time_of_day)"
   ]
  },
  {
   "cell_type": "code",
   "execution_count": 36,
   "metadata": {},
   "outputs": [
    {
     "name": "stdout",
     "output_type": "stream",
     "text": [
      "Routes (AirportFrom -> AirportTo) most prone to delays: LAX -> SFO\n"
     ]
    }
   ],
   "source": [
    "#Routes (AirportFrom -> AirportTo) most prone to delays\n",
    "df['Route'] = df['AirportFrom'] + ' -> ' + df['AirportTo']\n",
    "most_delayed_routes = df['Route'].value_counts().idxmax()\n",
    "print('Routes (AirportFrom -> AirportTo) most prone to delays:', most_delayed_routes)"
   ]
  },
  {
   "cell_type": "code",
   "execution_count": 37,
   "metadata": {},
   "outputs": [
    {
     "name": "stdout",
     "output_type": "stream",
     "text": [
      "Impact of flight duration on non-delays 129.6575944690909\n",
      "Impact of flight duration on delays 135.3696974994173\n"
     ]
    }
   ],
   "source": [
    "#Impact of flight duration on delays\n",
    "average_length_delayed = delayed_flights['Length'].mean()\n",
    "average_length_not_delayed = df[df['Delay'] == 0]['Length'].mean()\n",
    "\n",
    "# Output the results for these questions\n",
    "print('Impact of flight duration on non-delays', average_length_not_delayed)\n",
    "print('Impact of flight duration on delays', average_length_delayed)"
   ]
  }
 ],
 "metadata": {
  "kernelspec": {
   "display_name": "base",
   "language": "python",
   "name": "python3"
  },
  "language_info": {
   "codemirror_mode": {
    "name": "ipython",
    "version": 3
   },
   "file_extension": ".py",
   "mimetype": "text/x-python",
   "name": "python",
   "nbconvert_exporter": "python",
   "pygments_lexer": "ipython3",
   "version": "3.11.7"
  }
 },
 "nbformat": 4,
 "nbformat_minor": 2
}
